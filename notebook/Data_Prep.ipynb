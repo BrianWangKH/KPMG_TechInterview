{
 "cells": [
  {
   "cell_type": "markdown",
   "metadata": {},
   "source": [
    "I have a bachelor's in finance and a master's in IT. I would like to combine my skills with my interest in data analysis. Thus, I decided to do a side project researching financial markets."
   ]
  },
  {
   "cell_type": "markdown",
   "metadata": {},
   "source": [
    "# Data Preparation\n",
    "I did not find any convenient API to collect financial data in Taiwan. Therefore, I decided to built web crawlers\n",
    "## Data Collection"
   ]
  },
  {
   "cell_type": "markdown",
   "metadata": {},
   "source": [
    "##### import python packages"
   ]
  },
  {
   "cell_type": "code",
   "execution_count": 27,
   "metadata": {},
   "outputs": [],
   "source": [
    "import requests\n",
    "import pandas as pd\n",
    "import numpy as np\n",
    "import datetime\n",
    "import time\n",
    "from io import StringIO"
   ]
  },
  {
   "cell_type": "markdown",
   "metadata": {},
   "source": [
    "### Financial Statement Crawler\n",
    "Income Statement | Balance Sheet | Financial Ratios\n",
    "#### Statement of one period"
   ]
  },
  {
   "cell_type": "code",
   "execution_count": 2,
   "metadata": {},
   "outputs": [],
   "source": [
    "def income_statement(year, season):\n",
    "    \n",
    "    # Transform the AD year input to National year system\n",
    "    if year >= 1000:\n",
    "        year -= 1911\n",
    "    \n",
    "    # starting from 102 national year (2013 AD year), IFRSs system is applied\n",
    "    # before then, was GAAP\n",
    "    if year >= 102:\n",
    "        url = 'https://mops.twse.com.tw/mops/web/ajax_t163sb04'\n",
    "    elif year < 102:\n",
    "        url = 'https://mops.twse.com.tw/mops/web/ajax_t51sb13'\n",
    "    else:\n",
    "        print('type does not match')\n",
    "\n",
    "        \n",
    "    r = requests.post(url, \n",
    "                      {'encodeURIComponent':1,\n",
    "                       'step':1,\n",
    "                       'firstin':1,\n",
    "                       'off':1,\n",
    "                       'TYPEK':'sii',\n",
    "                       'year':str(year).zfill(3),\n",
    "                       'season':str(season).zfill(2)})\n",
    "    r.encoding = 'utf8'\n",
    "    \n",
    "    # receive a list of DataFrames\n",
    "    DFs = pd.read_html(r.text)\n",
    "\n",
    "    # data with GAAP system sometimes returns duplicate columns \n",
    "    if year < 102:\n",
    "        for i in DFs:\n",
    "            try:\n",
    "                i.columns = i.columns.droplevel()\n",
    "            except:\n",
    "                pass\n",
    "    \n",
    "    # the first element is some notifications\n",
    "    return DFs[1:]\n"
   ]
  },
  {
   "cell_type": "code",
   "execution_count": 3,
   "metadata": {},
   "outputs": [],
   "source": [
    "def balance_sheet(year, season):\n",
    "    \n",
    "    # Transform the AD year input to National year system\n",
    "    if year >= 1000:\n",
    "        year -= 1911\n",
    "    \n",
    "    # starting from 102 national year (2013 AD year), IFRSs system is applied\n",
    "    # before then, was GAAP\n",
    "    if year >= 102:\n",
    "        url = 'https://mops.twse.com.tw/mops/web/ajax_t163sb05'\n",
    "    elif year < 102:\n",
    "        url = 'https://mops.twse.com.tw/mops/web/ajax_t51sb12'\n",
    "    else:\n",
    "        print('type does not match')\n",
    "\n",
    "\n",
    "    r = requests.post(url, \n",
    "                      {'encodeURIComponent':1,\n",
    "                       'step':1,\n",
    "                       'firstin':1,\n",
    "                       'off':1,\n",
    "                       'TYPEK':'sii',\n",
    "                       'year':str(year).zfill(3),\n",
    "                       'season':str(season).zfill(2)})\n",
    "    r.encoding = 'utf8'\n",
    "    \n",
    "    # receive a list of DataFrames\n",
    "    DFs = pd.read_html(r.text)\n",
    "\n",
    "    \n",
    "    if year >= 102:\n",
    "        # the first element is some notifications\n",
    "        DFs = DFs[1:]\n",
    "    elif year < 102:\n",
    "        # there are some notes between each table\n",
    "        DFs = DFs[1::2]\n",
    "    return DFs\n"
   ]
  },
  {
   "cell_type": "code",
   "execution_count": 4,
   "metadata": {},
   "outputs": [],
   "source": [
    "def financial_rate(year):\n",
    "\n",
    "    url = \"https://mops.twse.com.tw/mops/web/ajax_t51sb02\"\n",
    "\n",
    "    # Transform the AD year input to National year system\n",
    "    if year >= 1000:\n",
    "        year -= 1911\n",
    "\n",
    "    # starting from 102 national year (2013 AD year), IFRSs system is applied\n",
    "    # before then, was GAAP\n",
    "    if year>=102:\n",
    "        r = requests.post(url, {\n",
    "            'encodeURIComponent':1,\n",
    "            'step':1,\n",
    "            'run':\"Y\",\n",
    "            'firstin':1,\n",
    "            'off':1,\n",
    "            'TYPEK':'sii',\n",
    "            'year':str(year).zfill(3),\n",
    "            'ifrs':\"Y\",\n",
    "            })\n",
    "    elif year<102:\n",
    "        r = requests.post(url, {\n",
    "            'encodeURIComponent':1,\n",
    "            'step':1,\n",
    "            'firstin':1,\n",
    "            'off':1,\n",
    "            'TYPEK':'sii',\n",
    "            'year':str(year).zfill(3),\n",
    "            })\n",
    "    r.encoding = 'utf8'\n",
    "    \n",
    "    # receive a list of DataFrames\n",
    "    DFs = pd.read_html(r.text)\n",
    "    \n",
    "    # the first element is some notifications\n",
    "    return DFs[1:]\n"
   ]
  },
  {
   "cell_type": "markdown",
   "metadata": {},
   "source": [
    "#### Statement for range of periods"
   ]
  },
  {
   "cell_type": "code",
   "execution_count": 5,
   "metadata": {},
   "outputs": [],
   "source": [
    "def financial_deadline(data, year, season, DFs):\n",
    "    \"\"\"\n",
    "    data are split into different tables based on industries\n",
    "    deadlines for releasing finanical statement for financial industry are different \n",
    "    from other industries.\n",
    "    \"\"\"\n",
    "    if year>=2013:\n",
    "        if season==1:\n",
    "            data[datetime.date(year, 5, 30)] = DFs.pop(-3)\n",
    "            data[datetime.date(year, 5, 15)] = pd.concat(DFs)\n",
    "        elif season == 2:\n",
    "            data[datetime.date(year, 8, 14)] = pd.concat([DFs.pop(2),DFs.pop(-1)])\n",
    "            data[datetime.date(year, 8, 31)] = pd.concat(DFs)\n",
    "        elif season == 3:\n",
    "            data[datetime.date(year, 11, 29)] = DFs.pop(-3)\n",
    "            data[datetime.date(year, 11, 14)] = pd.concat(DFs)\n",
    "        elif season == 4:\n",
    "            data[datetime.date(year+1, 3, 31)] = pd.concat(DFs)\n",
    "    elif year<2013:\n",
    "        if season==1:\n",
    "            data[datetime.date(year, 5, 15)] = pd.concat(DFs)\n",
    "        elif season == 2:\n",
    "            data[datetime.date(year, 8, 31)] = dfs.pop(-4)\n",
    "            data[datetime.date(year, 9, 13)] = pd.concat(DFs)\n",
    "        elif season == 3:\n",
    "            data[datetime.date(year, 11, 14)] = pd.concat(DFs)\n",
    "        elif season == 4:\n",
    "            data[datetime.date(year+1, 3, 31)] = pd.concat(DFs)\n",
    "    return data"
   ]
  },
  {
   "cell_type": "code",
   "execution_count": 26,
   "metadata": {},
   "outputs": [],
   "source": [
    "def statementCrawler(end_year,end_quater, start_year, statement_type, allow_continuous_fail_count=1):\n",
    "\n",
    "    # init variables\n",
    "    data = {}\n",
    "    fail_count = 0\n",
    "    count_period = 0\n",
    "\n",
    "    n_years = int(start_year)\n",
    "    year = int(end_year)\n",
    "    season = int(end_quater)\n",
    "\n",
    "    while year >= n_years:\n",
    "        print('parsing', str(year)+str(season).zfill(2))\n",
    "        \n",
    "        try:\n",
    "            if statement_type == \"balance_sheet\":\n",
    "                dfs = balance_sheet(year,season)\n",
    "                data = financial_deadline(data, year, season, dfs)\n",
    "            elif statement_type == \"income statement\":\n",
    "                dfs = income_statement(year,season)\n",
    "                data = financial_deadline(data, year, season, dfs)\n",
    "            elif statement_type == \"financial_rate\":\n",
    "                dfs = pd.concat(financial_rate(year))\n",
    "                dfs[\"財報日期\"] = str(year)+\"04\"\n",
    "                data[datetime.date(year+1, 3, 31)] = dfs\n",
    "                season = 1\n",
    "            else:\n",
    "                print(\"invalid statement input\")\n",
    "                break\n",
    "            \n",
    "            print('success!')\n",
    "            count_period +=1\n",
    "            print(count_period)\n",
    "            fail_count = 0\n",
    "            \n",
    "            # only continues if success\n",
    "            if season ==1:\n",
    "                year-=1\n",
    "                season = 4\n",
    "            else:\n",
    "                season -=1\n",
    "\n",
    "        except:\n",
    "            print('Failed')\n",
    "            fail_count += 1\n",
    "            if fail_count == allow_continuous_fail_count:\n",
    "                raise\n",
    "                break\n",
    "\n",
    "        time.sleep(10)\n",
    "    return data"
   ]
  },
  {
   "cell_type": "markdown",
   "metadata": {},
   "source": [
    "### Stock Trade Price Crawler"
   ]
  },
  {
   "cell_type": "code",
   "execution_count": 28,
   "metadata": {},
   "outputs": [],
   "source": [
    "def crawl_price(date):\n",
    "    r = requests.post('http://www.twse.com.tw/exchangeReport/MI_INDEX?response=csv&date=' + str(date).replace('-','') + '&type=ALL')\n",
    "    ret = pd.read_csv(StringIO(\"\\n\".join([i.translate({ord(c): None for c in ' '}) \n",
    "                                        for i in r.text.split('\\n') \n",
    "                                        if len(i.split('\",')) == 17 and i[0] != '='])), header=0)\n",
    "    ret = ret.set_index('證券代號')\n",
    "    ret['成交金額'] = ret['成交金額'].str.replace(',','')\n",
    "    ret['成交股數'] = ret['成交股數'].str.replace(',','')\n",
    "    return ret\n"
   ]
  },
  {
   "cell_type": "code",
   "execution_count": 31,
   "metadata": {},
   "outputs": [],
   "source": [
    "def stockpriceCrawler(startDate, endDate=datetime.date.today()):\n",
    "    \n",
    "    # init variables\n",
    "    data = {}\n",
    "    fail_count = 0\n",
    "    count_day = 0\n",
    "    \n",
    "    # avoiding long holidays\n",
    "    allow_continuous_fail_count = 25\n",
    "    \n",
    "    startDate = pd.to_datetime(str(startDate)).date()\n",
    "    \n",
    "    while startDate <= endDate:\n",
    "\n",
    "        print('parsing', endDate)\n",
    "        \n",
    "        try:\n",
    "            data[endDate] = crawl_price(endDate)\n",
    "            print('success!')\n",
    "            count_day +=1\n",
    "            print(count_day)\n",
    "            fail_count = 0\n",
    "        except:\n",
    "            print('fail! check the date is holiday')\n",
    "            fail_count += 1\n",
    "            if fail_count == allow_continuous_fail_count:\n",
    "                raise\n",
    "                break\n",
    "\n",
    "        # backward one day\n",
    "        endDate -= datetime.timedelta(days=1)\n",
    "        time.sleep(15)\n",
    "        \n",
    "    return pd.concat(data).rename_axis([\"日期\",\"證券代號\"]).iloc[:,:-1]"
   ]
  },
  {
   "cell_type": "markdown",
   "metadata": {},
   "source": [
    "## Data Cleansing\n",
    "### Financial statement "
   ]
  },
  {
   "cell_type": "code",
   "execution_count": null,
   "metadata": {},
   "outputs": [],
   "source": [
    "# fill up missing data with Nan\n",
    "BS_DF = pd.concat(BS_Dict).applymap(lambda x: x if x != '--' else np.nan)\n",
    "IS_DF = pd.concat(IS_Dict).applymap(lambda x: x if x != '--' else np.nan)\n",
    "FR_DF = pd.concat(FR_Dict).applymap(lambda x: x if x != '--' else np.nan)\n",
    "\n",
    "# remove non valid data\n",
    "BS_DF = BS_DF[BS_DF['公司代號'] != '公司代號']\n",
    "IS_DF = IS_DF[IS_DF['公司代號'] != '公司代號']\n",
    "FR_DF = FR_DF[FR_DF[('公司代號','公司代號')] != '公司代號']\n",
    "\n",
    "BS_DF = BS_DF[~BS_DF['公司代號'].isnull()]\n",
    "IS_DF = IS_DF[~IS_DF['公司代號'].isnull()]\n",
    "FR_DF = FR_DF[~FR_DF[('公司代號','公司代號')].isnull()]\n",
    "\n",
    "# remove duplicate columns and reset index name\n",
    "BS_DF = BS_DF.rename_axis([\"日期\",\"沒用\"]).reset_index().set_index([\"日期\",\"公司名稱\"]).iloc[:,1:]\n",
    "IS_DF = IS_DF.rename_axis([\"日期\",\"沒用\"]).reset_index().set_index([\"日期\",\"公司名稱\"]).iloc[:,1:]\n",
    "FR_DF = FR_DF.rename_axis([\"日期\",\"沒用\"]).reset_index().set_index([\"日期\",('公司代號','公司代號')]).iloc[:,1:]\n",
    "FR_DF.columns = FR_DF.columns.droplevel(0)\n",
    "FR_Col = FR_DF.columns.to_list()\n",
    "FR_Col[-1] = \"財報日期\"\n",
    "FR_DF.columns = FR_Col\n",
    "FR_DF.rename_axis(mapper=[\"日期\",\"公司代號\"],inplace = True)"
   ]
  },
  {
   "cell_type": "code",
   "execution_count": null,
   "metadata": {},
   "outputs": [],
   "source": [
    "# inconsistent column names for Total Asset\n",
    "# checked the sum data amount of all different  Total Asset which matched the total data amount\n",
    "len(BS_DF[\"資產合計\"][~BS_DF[\"資產合計\"].isna()])+len(BS_DF[\"資產總計\"][~BS_DF[\"資產總計\"].isna()])+len(BS_DF[\"資產總額\"][~BS_DF[\"資產總額\"].isna()])\n",
    "# combined as a new column\n",
    "BS_DF[\"總資產\"] = BS_DF[\"資產合計\"].fillna(0.0)+BS_DF[\"資產總計\"].fillna(0.0)+BS_DF[\"資產總額\"].fillna(0.0)\n",
    "\n",
    "# same for the Total Liabilities\n",
    "len(BS_DF[\"負債合計\"][~BS_DF[\"負債合計\"].isna()])+len(BS_DF[\"負債總計\"][~BS_DF[\"負債總計\"].isna()])+len(BS_DF[\"負債總額\"][~BS_DF[\"負債總額\"].isna()])\n",
    "BS_DF[\"總負債\"] = BS_DF[\"負債合計\"].fillna(0.0)+BS_DF[\"負債總計\"].fillna(0.0)+BS_DF[\"負債總額\"].fillna(0.0)\n",
    "\n",
    "# same for the Total Equities\n",
    "len(BS_DF[\"股東權益合計\"][~BS_DF[\"股東權益合計\"].isna()])+len(BS_DF[\"股東權益總計\"][~BS_DF[\"股東權益總計\"].isna()])+len(BS_DF[\"權益合計\"][~BS_DF[\"權益合計\"].isna()])+len(BS_DF[\"權益總額\"][~BS_DF[\"權益總額\"].isna()])+len(BS_DF[\"權益總計\"][~BS_DF[\"權益總計\"].isna()])\n",
    "BS_DF[\"總權益\"] = BS_DF[\"股東權益合計\"].fillna(0.0)+BS_DF[\"股東權益總計\"].fillna(0.0)+BS_DF[\"權益合計\"].fillna(0.0)+BS_DF[\"權益總額\"].fillna(0.0)+BS_DF[\"權益總計\"].fillna(0.0) \n"
   ]
  },
  {
   "cell_type": "code",
   "execution_count": 141,
   "metadata": {},
   "outputs": [
    {
     "data": {
      "text/plain": [
       "MultiIndex(levels=[[200802, 201104], [3990, 910482]],\n",
       "           codes=[[0, 1], [1, 0]],\n",
       "           names=['財報日期', '公司代號'],\n",
       "           sortorder=0)"
      ]
     },
     "execution_count": 141,
     "metadata": {},
     "output_type": "execute_result"
    }
   ],
   "source": [
    "bid = BS_DF.index\n",
    "iid = IS_DF.index\n",
    "bid.difference(iid)\n",
    "\n",
    "# have checked the data are test company id "
   ]
  },
  {
   "cell_type": "code",
   "execution_count": null,
   "metadata": {},
   "outputs": [],
   "source": [
    "FinState_DF = BS_DF.merge(IS_DF,how = \"outer\",on = [\"財報日期\",\"公司代號\",\"日期\",\"公司名稱\"])\n",
    "FinState_DF = FinState_DF.merge(FR_DF,how=\"outer\",on=[\"財報日期\",\"公司代號\"])"
   ]
  },
  {
   "cell_type": "markdown",
   "metadata": {},
   "source": [
    "### Combining Financial Statement with Stock Price"
   ]
  },
  {
   "cell_type": "code",
   "execution_count": null,
   "metadata": {},
   "outputs": [],
   "source": [
    "stock_df = pd.read_csv(\"TWstock_070118_190425.csv\",usecols = [\"日期\",\"證券代號\",\"收盤價\",\"本益比\"])\n",
    "\n",
    "# preparing columns for stock prices on buy and sell date\n",
    "FinState_DF[\"日期\"] = pd.to_datetime(FinState_DF[\"日期\"])\n",
    "\n",
    "# day before next statement release\n",
    "FinState_DF[\"下次財報前一天\"] = np.nan\n",
    "for i in FinState_DF[\"公司名稱\"].unique():\n",
    "    FinState_DF[\"下次財報前一天\"][FinState_DF[\"公司名稱\"]==i] = (FinState_DF[\"日期\"][FinState_DF[\"公司名稱\"]==i]-dt.timedelta(1)).shift(-1)"
   ]
  },
  {
   "cell_type": "code",
   "execution_count": null,
   "metadata": {},
   "outputs": [],
   "source": [
    "FinState_DF[\"公司代號\"] = FinState_DF[\"公司代號\"].apply(str)\n",
    "stock_df[\"日期\"] = pd.to_datetime(stock_df[\"日期\"])\n",
    "\n",
    "# statement release date as buy date\n",
    "# day before next statement release as sell date\n",
    "FinState_DF[\"買入日期\"] = pd.to_datetime(FinState_DF[\"日期\"])\n",
    "FinState_DF[\"賣出日期\"] = pd.to_datetime(FinState_DF[\"下次財報前一天\"])\n",
    "\n",
    "stock_df[\"公司代號\"] = stock_df[\"證券代號\"]\n",
    "stock_df.drop(\"證券代號\",axis=1,inplace=True)\n",
    "stock_df.set_index([\"日期\",\"公司代號\"],inplace=True)\n",
    "\n",
    "# merge finanical statement with stock price\n",
    "# if buy date has no price data, check next day\n",
    "FinState_DF = FinState_DF.merge(stock_df,left_on=[\"買入日期\",\"公司代號\"],right_on=[\"日期\",\"公司代號\"],how=\"left\")\n",
    "while len(FinState_DF[\"買入日期\"][FinState_DF[\"收盤價\"].isna()])>0:\n",
    "    FinState_DF[\"買入日期\"] = pd.concat([pd.to_datetime(FinState_DF[\"買入日期\"][FinState_DF[\"收盤價\"].isna()])+dt.timedelta(1),pd.to_datetime(FinState_DF[\"買入日期\"][~FinState_DF[\"收盤價\"].isna()])]).sort_index()\n",
    "    FinState_DF = FinState_DF.drop([\"收盤價\",\"本益比\"],axis=1)\n",
    "    FinState_DF = FinState_DF.merge(stock_df,left_on=[\"買入日期\",\"公司代號\"],right_on=[\"日期\",\"公司代號\"],how=\"left\")\n",
    "\n",
    "# merge finanical statement with stock price\n",
    "# if sell date has no price data, check previous day\n",
    "FinState_DF = FinState_DF.merge(stock_df[\"收盤價\"],left_on=[\"賣出日期\",\"公司代號\"],right_on=[\"日期\",\"公司代號\"],how=\"left\",suffixes=(\"\",\"_賣出\"))\n",
    "while len(FinState_DF[\"賣出日期\"][FinState_DF[\"收盤價_賣出\"].isna()])>0:\n",
    "    FinState_DF[\"賣出日期\"] = pd.concat([pd.to_datetime(FinState_DF[\"賣出日期\"][FinState_DF[\"收盤價_賣出\"].isna()])-dt.timedelta(1),pd.to_datetime(FinState_DF[\"賣出日期\"][~FinState_DF[\"收盤價_賣出\"].isna()])]).sort_index()\n",
    "    FinState_DF = FinState_DF.drop(\"收盤價_賣出\",axis=1)\n",
    "    FinState_DF = FinState_DF.merge(stock_df[\"收盤價\"],left_on=[\"賣出日期\",\"公司代號\"],right_on=[\"日期\",\"公司代號\"],how=\"left\",suffixes=(\"\",\"_賣出\"))"
   ]
  },
  {
   "cell_type": "code",
   "execution_count": null,
   "metadata": {},
   "outputs": [],
   "source": [
    "FinState_DF.to_csv(\"FinancialStatement_with_StockPrice_0801_1804.csv\")"
   ]
  },
  {
   "cell_type": "markdown",
   "metadata": {},
   "source": [
    "Future work:\n",
    "\n",
    "I planned to research on finding the relations between finanical ratios and stock price growth.\n",
    "\n",
    "There are still quite a few cleaning work yet to be done.\n",
    "\n",
    "However, as I found a nice API for getting US financial data. I decided to move on to that.\n"
   ]
  },
  {
   "cell_type": "code",
   "execution_count": null,
   "metadata": {},
   "outputs": [],
   "source": []
  },
  {
   "cell_type": "code",
   "execution_count": null,
   "metadata": {},
   "outputs": [],
   "source": []
  },
  {
   "cell_type": "code",
   "execution_count": null,
   "metadata": {},
   "outputs": [],
   "source": []
  }
 ],
 "metadata": {
  "kernelspec": {
   "display_name": "Python 3",
   "language": "python",
   "name": "python3"
  },
  "language_info": {
   "codemirror_mode": {
    "name": "ipython",
    "version": 3
   },
   "file_extension": ".py",
   "mimetype": "text/x-python",
   "name": "python",
   "nbconvert_exporter": "python",
   "pygments_lexer": "ipython3",
   "version": "3.8.5"
  }
 },
 "nbformat": 4,
 "nbformat_minor": 4
}
